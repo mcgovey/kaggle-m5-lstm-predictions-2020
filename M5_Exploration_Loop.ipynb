{
 "cells": [
  {
   "cell_type": "code",
   "execution_count": 1,
   "metadata": {},
   "outputs": [],
   "source": [
    "import numpy as np\n",
    "import pandas as pd\n",
    "\n",
    "from math import floor"
   ]
  },
  {
   "cell_type": "code",
   "execution_count": 2,
   "metadata": {},
   "outputs": [
    {
     "data": {
      "text/html": [
       "<div>\n",
       "<style scoped>\n",
       "    .dataframe tbody tr th:only-of-type {\n",
       "        vertical-align: middle;\n",
       "    }\n",
       "\n",
       "    .dataframe tbody tr th {\n",
       "        vertical-align: top;\n",
       "    }\n",
       "\n",
       "    .dataframe thead th {\n",
       "        text-align: right;\n",
       "    }\n",
       "</style>\n",
       "<table border=\"1\" class=\"dataframe\">\n",
       "  <thead>\n",
       "    <tr style=\"text-align: right;\">\n",
       "      <th></th>\n",
       "      <th>date</th>\n",
       "      <th>wm_yr_wk</th>\n",
       "      <th>weekday</th>\n",
       "      <th>wday</th>\n",
       "      <th>month</th>\n",
       "      <th>year</th>\n",
       "      <th>d</th>\n",
       "      <th>event_name_1</th>\n",
       "      <th>event_type_1</th>\n",
       "      <th>event_name_2</th>\n",
       "      <th>event_type_2</th>\n",
       "      <th>snap_CA</th>\n",
       "      <th>snap_TX</th>\n",
       "      <th>snap_WI</th>\n",
       "    </tr>\n",
       "  </thead>\n",
       "  <tbody>\n",
       "    <tr>\n",
       "      <th>0</th>\n",
       "      <td>2011-01-29</td>\n",
       "      <td>11101</td>\n",
       "      <td>Saturday</td>\n",
       "      <td>1</td>\n",
       "      <td>1</td>\n",
       "      <td>2011</td>\n",
       "      <td>d_1</td>\n",
       "      <td>NaN</td>\n",
       "      <td>NaN</td>\n",
       "      <td>NaN</td>\n",
       "      <td>NaN</td>\n",
       "      <td>0</td>\n",
       "      <td>0</td>\n",
       "      <td>0</td>\n",
       "    </tr>\n",
       "    <tr>\n",
       "      <th>1</th>\n",
       "      <td>2011-01-30</td>\n",
       "      <td>11101</td>\n",
       "      <td>Sunday</td>\n",
       "      <td>2</td>\n",
       "      <td>1</td>\n",
       "      <td>2011</td>\n",
       "      <td>d_2</td>\n",
       "      <td>NaN</td>\n",
       "      <td>NaN</td>\n",
       "      <td>NaN</td>\n",
       "      <td>NaN</td>\n",
       "      <td>0</td>\n",
       "      <td>0</td>\n",
       "      <td>0</td>\n",
       "    </tr>\n",
       "    <tr>\n",
       "      <th>2</th>\n",
       "      <td>2011-01-31</td>\n",
       "      <td>11101</td>\n",
       "      <td>Monday</td>\n",
       "      <td>3</td>\n",
       "      <td>1</td>\n",
       "      <td>2011</td>\n",
       "      <td>d_3</td>\n",
       "      <td>NaN</td>\n",
       "      <td>NaN</td>\n",
       "      <td>NaN</td>\n",
       "      <td>NaN</td>\n",
       "      <td>0</td>\n",
       "      <td>0</td>\n",
       "      <td>0</td>\n",
       "    </tr>\n",
       "    <tr>\n",
       "      <th>3</th>\n",
       "      <td>2011-02-01</td>\n",
       "      <td>11101</td>\n",
       "      <td>Tuesday</td>\n",
       "      <td>4</td>\n",
       "      <td>2</td>\n",
       "      <td>2011</td>\n",
       "      <td>d_4</td>\n",
       "      <td>NaN</td>\n",
       "      <td>NaN</td>\n",
       "      <td>NaN</td>\n",
       "      <td>NaN</td>\n",
       "      <td>1</td>\n",
       "      <td>1</td>\n",
       "      <td>0</td>\n",
       "    </tr>\n",
       "    <tr>\n",
       "      <th>4</th>\n",
       "      <td>2011-02-02</td>\n",
       "      <td>11101</td>\n",
       "      <td>Wednesday</td>\n",
       "      <td>5</td>\n",
       "      <td>2</td>\n",
       "      <td>2011</td>\n",
       "      <td>d_5</td>\n",
       "      <td>NaN</td>\n",
       "      <td>NaN</td>\n",
       "      <td>NaN</td>\n",
       "      <td>NaN</td>\n",
       "      <td>1</td>\n",
       "      <td>0</td>\n",
       "      <td>1</td>\n",
       "    </tr>\n",
       "  </tbody>\n",
       "</table>\n",
       "</div>"
      ],
      "text/plain": [
       "         date  wm_yr_wk    weekday  wday  month  year    d event_name_1  \\\n",
       "0  2011-01-29     11101   Saturday     1      1  2011  d_1          NaN   \n",
       "1  2011-01-30     11101     Sunday     2      1  2011  d_2          NaN   \n",
       "2  2011-01-31     11101     Monday     3      1  2011  d_3          NaN   \n",
       "3  2011-02-01     11101    Tuesday     4      2  2011  d_4          NaN   \n",
       "4  2011-02-02     11101  Wednesday     5      2  2011  d_5          NaN   \n",
       "\n",
       "  event_type_1 event_name_2 event_type_2  snap_CA  snap_TX  snap_WI  \n",
       "0          NaN          NaN          NaN        0        0        0  \n",
       "1          NaN          NaN          NaN        0        0        0  \n",
       "2          NaN          NaN          NaN        0        0        0  \n",
       "3          NaN          NaN          NaN        1        1        0  \n",
       "4          NaN          NaN          NaN        1        0        1  "
      ]
     },
     "execution_count": 2,
     "metadata": {},
     "output_type": "execute_result"
    }
   ],
   "source": [
    "cal_df = pd.read_csv('calendar.csv')\n",
    "cal_df.head()"
   ]
  },
  {
   "cell_type": "code",
   "execution_count": 3,
   "metadata": {},
   "outputs": [
    {
     "data": {
      "text/plain": [
       "array([['2011-01-29', 11101, 'Saturday', ..., 0, 0, 0],\n",
       "       ['2011-01-30', 11101, 'Sunday', ..., 0, 0, 0],\n",
       "       ['2011-01-31', 11101, 'Monday', ..., 0, 0, 0],\n",
       "       ...,\n",
       "       ['2016-06-17', 11620, 'Friday', ..., 0, 0, 0],\n",
       "       ['2016-06-18', 11621, 'Saturday', ..., 0, 0, 0],\n",
       "       ['2016-06-19', 11621, 'Sunday', ..., 0, 0, 0]], dtype=object)"
      ]
     },
     "execution_count": 3,
     "metadata": {},
     "output_type": "execute_result"
    }
   ],
   "source": [
    "np.array(cal_df)"
   ]
  },
  {
   "cell_type": "code",
   "execution_count": 4,
   "metadata": {},
   "outputs": [
    {
     "data": {
      "text/html": [
       "<div>\n",
       "<style scoped>\n",
       "    .dataframe tbody tr th:only-of-type {\n",
       "        vertical-align: middle;\n",
       "    }\n",
       "\n",
       "    .dataframe tbody tr th {\n",
       "        vertical-align: top;\n",
       "    }\n",
       "\n",
       "    .dataframe thead th {\n",
       "        text-align: right;\n",
       "    }\n",
       "</style>\n",
       "<table border=\"1\" class=\"dataframe\">\n",
       "  <thead>\n",
       "    <tr style=\"text-align: right;\">\n",
       "      <th></th>\n",
       "      <th>id</th>\n",
       "      <th>item_id</th>\n",
       "      <th>dept_id</th>\n",
       "      <th>cat_id</th>\n",
       "      <th>store_id</th>\n",
       "      <th>state_id</th>\n",
       "      <th>d_1</th>\n",
       "      <th>d_2</th>\n",
       "      <th>d_3</th>\n",
       "      <th>d_4</th>\n",
       "      <th>...</th>\n",
       "      <th>d_1904</th>\n",
       "      <th>d_1905</th>\n",
       "      <th>d_1906</th>\n",
       "      <th>d_1907</th>\n",
       "      <th>d_1908</th>\n",
       "      <th>d_1909</th>\n",
       "      <th>d_1910</th>\n",
       "      <th>d_1911</th>\n",
       "      <th>d_1912</th>\n",
       "      <th>d_1913</th>\n",
       "    </tr>\n",
       "  </thead>\n",
       "  <tbody>\n",
       "    <tr>\n",
       "      <th>0</th>\n",
       "      <td>HOBBIES_1_001_CA_1_validation</td>\n",
       "      <td>HOBBIES_1_001</td>\n",
       "      <td>HOBBIES_1</td>\n",
       "      <td>HOBBIES</td>\n",
       "      <td>CA_1</td>\n",
       "      <td>CA</td>\n",
       "      <td>0</td>\n",
       "      <td>0</td>\n",
       "      <td>0</td>\n",
       "      <td>0</td>\n",
       "      <td>...</td>\n",
       "      <td>1</td>\n",
       "      <td>3</td>\n",
       "      <td>0</td>\n",
       "      <td>1</td>\n",
       "      <td>1</td>\n",
       "      <td>1</td>\n",
       "      <td>3</td>\n",
       "      <td>0</td>\n",
       "      <td>1</td>\n",
       "      <td>1</td>\n",
       "    </tr>\n",
       "    <tr>\n",
       "      <th>1</th>\n",
       "      <td>HOBBIES_1_002_CA_1_validation</td>\n",
       "      <td>HOBBIES_1_002</td>\n",
       "      <td>HOBBIES_1</td>\n",
       "      <td>HOBBIES</td>\n",
       "      <td>CA_1</td>\n",
       "      <td>CA</td>\n",
       "      <td>0</td>\n",
       "      <td>0</td>\n",
       "      <td>0</td>\n",
       "      <td>0</td>\n",
       "      <td>...</td>\n",
       "      <td>0</td>\n",
       "      <td>0</td>\n",
       "      <td>0</td>\n",
       "      <td>0</td>\n",
       "      <td>0</td>\n",
       "      <td>1</td>\n",
       "      <td>0</td>\n",
       "      <td>0</td>\n",
       "      <td>0</td>\n",
       "      <td>0</td>\n",
       "    </tr>\n",
       "    <tr>\n",
       "      <th>2</th>\n",
       "      <td>HOBBIES_1_003_CA_1_validation</td>\n",
       "      <td>HOBBIES_1_003</td>\n",
       "      <td>HOBBIES_1</td>\n",
       "      <td>HOBBIES</td>\n",
       "      <td>CA_1</td>\n",
       "      <td>CA</td>\n",
       "      <td>0</td>\n",
       "      <td>0</td>\n",
       "      <td>0</td>\n",
       "      <td>0</td>\n",
       "      <td>...</td>\n",
       "      <td>2</td>\n",
       "      <td>1</td>\n",
       "      <td>2</td>\n",
       "      <td>1</td>\n",
       "      <td>1</td>\n",
       "      <td>1</td>\n",
       "      <td>0</td>\n",
       "      <td>1</td>\n",
       "      <td>1</td>\n",
       "      <td>1</td>\n",
       "    </tr>\n",
       "    <tr>\n",
       "      <th>3</th>\n",
       "      <td>HOBBIES_1_004_CA_1_validation</td>\n",
       "      <td>HOBBIES_1_004</td>\n",
       "      <td>HOBBIES_1</td>\n",
       "      <td>HOBBIES</td>\n",
       "      <td>CA_1</td>\n",
       "      <td>CA</td>\n",
       "      <td>0</td>\n",
       "      <td>0</td>\n",
       "      <td>0</td>\n",
       "      <td>0</td>\n",
       "      <td>...</td>\n",
       "      <td>1</td>\n",
       "      <td>0</td>\n",
       "      <td>5</td>\n",
       "      <td>4</td>\n",
       "      <td>1</td>\n",
       "      <td>0</td>\n",
       "      <td>1</td>\n",
       "      <td>3</td>\n",
       "      <td>7</td>\n",
       "      <td>2</td>\n",
       "    </tr>\n",
       "    <tr>\n",
       "      <th>4</th>\n",
       "      <td>HOBBIES_1_005_CA_1_validation</td>\n",
       "      <td>HOBBIES_1_005</td>\n",
       "      <td>HOBBIES_1</td>\n",
       "      <td>HOBBIES</td>\n",
       "      <td>CA_1</td>\n",
       "      <td>CA</td>\n",
       "      <td>0</td>\n",
       "      <td>0</td>\n",
       "      <td>0</td>\n",
       "      <td>0</td>\n",
       "      <td>...</td>\n",
       "      <td>2</td>\n",
       "      <td>1</td>\n",
       "      <td>1</td>\n",
       "      <td>0</td>\n",
       "      <td>1</td>\n",
       "      <td>1</td>\n",
       "      <td>2</td>\n",
       "      <td>2</td>\n",
       "      <td>2</td>\n",
       "      <td>4</td>\n",
       "    </tr>\n",
       "    <tr>\n",
       "      <th>...</th>\n",
       "      <td>...</td>\n",
       "      <td>...</td>\n",
       "      <td>...</td>\n",
       "      <td>...</td>\n",
       "      <td>...</td>\n",
       "      <td>...</td>\n",
       "      <td>...</td>\n",
       "      <td>...</td>\n",
       "      <td>...</td>\n",
       "      <td>...</td>\n",
       "      <td>...</td>\n",
       "      <td>...</td>\n",
       "      <td>...</td>\n",
       "      <td>...</td>\n",
       "      <td>...</td>\n",
       "      <td>...</td>\n",
       "      <td>...</td>\n",
       "      <td>...</td>\n",
       "      <td>...</td>\n",
       "      <td>...</td>\n",
       "      <td>...</td>\n",
       "    </tr>\n",
       "    <tr>\n",
       "      <th>30485</th>\n",
       "      <td>FOODS_3_823_WI_3_validation</td>\n",
       "      <td>FOODS_3_823</td>\n",
       "      <td>FOODS_3</td>\n",
       "      <td>FOODS</td>\n",
       "      <td>WI_3</td>\n",
       "      <td>WI</td>\n",
       "      <td>0</td>\n",
       "      <td>0</td>\n",
       "      <td>2</td>\n",
       "      <td>2</td>\n",
       "      <td>...</td>\n",
       "      <td>2</td>\n",
       "      <td>0</td>\n",
       "      <td>0</td>\n",
       "      <td>0</td>\n",
       "      <td>0</td>\n",
       "      <td>0</td>\n",
       "      <td>1</td>\n",
       "      <td>0</td>\n",
       "      <td>0</td>\n",
       "      <td>1</td>\n",
       "    </tr>\n",
       "    <tr>\n",
       "      <th>30486</th>\n",
       "      <td>FOODS_3_824_WI_3_validation</td>\n",
       "      <td>FOODS_3_824</td>\n",
       "      <td>FOODS_3</td>\n",
       "      <td>FOODS</td>\n",
       "      <td>WI_3</td>\n",
       "      <td>WI</td>\n",
       "      <td>0</td>\n",
       "      <td>0</td>\n",
       "      <td>0</td>\n",
       "      <td>0</td>\n",
       "      <td>...</td>\n",
       "      <td>0</td>\n",
       "      <td>0</td>\n",
       "      <td>0</td>\n",
       "      <td>0</td>\n",
       "      <td>0</td>\n",
       "      <td>0</td>\n",
       "      <td>0</td>\n",
       "      <td>0</td>\n",
       "      <td>1</td>\n",
       "      <td>0</td>\n",
       "    </tr>\n",
       "    <tr>\n",
       "      <th>30487</th>\n",
       "      <td>FOODS_3_825_WI_3_validation</td>\n",
       "      <td>FOODS_3_825</td>\n",
       "      <td>FOODS_3</td>\n",
       "      <td>FOODS</td>\n",
       "      <td>WI_3</td>\n",
       "      <td>WI</td>\n",
       "      <td>0</td>\n",
       "      <td>6</td>\n",
       "      <td>0</td>\n",
       "      <td>2</td>\n",
       "      <td>...</td>\n",
       "      <td>2</td>\n",
       "      <td>1</td>\n",
       "      <td>0</td>\n",
       "      <td>2</td>\n",
       "      <td>0</td>\n",
       "      <td>1</td>\n",
       "      <td>0</td>\n",
       "      <td>0</td>\n",
       "      <td>1</td>\n",
       "      <td>0</td>\n",
       "    </tr>\n",
       "    <tr>\n",
       "      <th>30488</th>\n",
       "      <td>FOODS_3_826_WI_3_validation</td>\n",
       "      <td>FOODS_3_826</td>\n",
       "      <td>FOODS_3</td>\n",
       "      <td>FOODS</td>\n",
       "      <td>WI_3</td>\n",
       "      <td>WI</td>\n",
       "      <td>0</td>\n",
       "      <td>0</td>\n",
       "      <td>0</td>\n",
       "      <td>0</td>\n",
       "      <td>...</td>\n",
       "      <td>0</td>\n",
       "      <td>0</td>\n",
       "      <td>1</td>\n",
       "      <td>0</td>\n",
       "      <td>0</td>\n",
       "      <td>1</td>\n",
       "      <td>0</td>\n",
       "      <td>3</td>\n",
       "      <td>1</td>\n",
       "      <td>3</td>\n",
       "    </tr>\n",
       "    <tr>\n",
       "      <th>30489</th>\n",
       "      <td>FOODS_3_827_WI_3_validation</td>\n",
       "      <td>FOODS_3_827</td>\n",
       "      <td>FOODS_3</td>\n",
       "      <td>FOODS</td>\n",
       "      <td>WI_3</td>\n",
       "      <td>WI</td>\n",
       "      <td>0</td>\n",
       "      <td>0</td>\n",
       "      <td>0</td>\n",
       "      <td>0</td>\n",
       "      <td>...</td>\n",
       "      <td>0</td>\n",
       "      <td>0</td>\n",
       "      <td>0</td>\n",
       "      <td>0</td>\n",
       "      <td>0</td>\n",
       "      <td>0</td>\n",
       "      <td>0</td>\n",
       "      <td>0</td>\n",
       "      <td>0</td>\n",
       "      <td>0</td>\n",
       "    </tr>\n",
       "  </tbody>\n",
       "</table>\n",
       "<p>30490 rows × 1919 columns</p>\n",
       "</div>"
      ],
      "text/plain": [
       "                                  id        item_id    dept_id   cat_id  \\\n",
       "0      HOBBIES_1_001_CA_1_validation  HOBBIES_1_001  HOBBIES_1  HOBBIES   \n",
       "1      HOBBIES_1_002_CA_1_validation  HOBBIES_1_002  HOBBIES_1  HOBBIES   \n",
       "2      HOBBIES_1_003_CA_1_validation  HOBBIES_1_003  HOBBIES_1  HOBBIES   \n",
       "3      HOBBIES_1_004_CA_1_validation  HOBBIES_1_004  HOBBIES_1  HOBBIES   \n",
       "4      HOBBIES_1_005_CA_1_validation  HOBBIES_1_005  HOBBIES_1  HOBBIES   \n",
       "...                              ...            ...        ...      ...   \n",
       "30485    FOODS_3_823_WI_3_validation    FOODS_3_823    FOODS_3    FOODS   \n",
       "30486    FOODS_3_824_WI_3_validation    FOODS_3_824    FOODS_3    FOODS   \n",
       "30487    FOODS_3_825_WI_3_validation    FOODS_3_825    FOODS_3    FOODS   \n",
       "30488    FOODS_3_826_WI_3_validation    FOODS_3_826    FOODS_3    FOODS   \n",
       "30489    FOODS_3_827_WI_3_validation    FOODS_3_827    FOODS_3    FOODS   \n",
       "\n",
       "      store_id state_id  d_1  d_2  d_3  d_4  ...  d_1904  d_1905  d_1906  \\\n",
       "0         CA_1       CA    0    0    0    0  ...       1       3       0   \n",
       "1         CA_1       CA    0    0    0    0  ...       0       0       0   \n",
       "2         CA_1       CA    0    0    0    0  ...       2       1       2   \n",
       "3         CA_1       CA    0    0    0    0  ...       1       0       5   \n",
       "4         CA_1       CA    0    0    0    0  ...       2       1       1   \n",
       "...        ...      ...  ...  ...  ...  ...  ...     ...     ...     ...   \n",
       "30485     WI_3       WI    0    0    2    2  ...       2       0       0   \n",
       "30486     WI_3       WI    0    0    0    0  ...       0       0       0   \n",
       "30487     WI_3       WI    0    6    0    2  ...       2       1       0   \n",
       "30488     WI_3       WI    0    0    0    0  ...       0       0       1   \n",
       "30489     WI_3       WI    0    0    0    0  ...       0       0       0   \n",
       "\n",
       "       d_1907  d_1908  d_1909  d_1910  d_1911  d_1912  d_1913  \n",
       "0           1       1       1       3       0       1       1  \n",
       "1           0       0       1       0       0       0       0  \n",
       "2           1       1       1       0       1       1       1  \n",
       "3           4       1       0       1       3       7       2  \n",
       "4           0       1       1       2       2       2       4  \n",
       "...       ...     ...     ...     ...     ...     ...     ...  \n",
       "30485       0       0       0       1       0       0       1  \n",
       "30486       0       0       0       0       0       1       0  \n",
       "30487       2       0       1       0       0       1       0  \n",
       "30488       0       0       1       0       3       1       3  \n",
       "30489       0       0       0       0       0       0       0  \n",
       "\n",
       "[30490 rows x 1919 columns]"
      ]
     },
     "execution_count": 4,
     "metadata": {},
     "output_type": "execute_result"
    }
   ],
   "source": [
    "sales_df = pd.read_csv('sales_train_validation.csv')\n",
    "sales_df"
   ]
  },
  {
   "cell_type": "code",
   "execution_count": 5,
   "metadata": {},
   "outputs": [
    {
     "data": {
      "text/html": [
       "<div>\n",
       "<style scoped>\n",
       "    .dataframe tbody tr th:only-of-type {\n",
       "        vertical-align: middle;\n",
       "    }\n",
       "\n",
       "    .dataframe tbody tr th {\n",
       "        vertical-align: top;\n",
       "    }\n",
       "\n",
       "    .dataframe thead th {\n",
       "        text-align: right;\n",
       "    }\n",
       "</style>\n",
       "<table border=\"1\" class=\"dataframe\">\n",
       "  <thead>\n",
       "    <tr style=\"text-align: right;\">\n",
       "      <th></th>\n",
       "      <th>store_id</th>\n",
       "      <th>item_id</th>\n",
       "      <th>wm_yr_wk</th>\n",
       "      <th>sell_price</th>\n",
       "    </tr>\n",
       "  </thead>\n",
       "  <tbody>\n",
       "    <tr>\n",
       "      <th>0</th>\n",
       "      <td>CA_1</td>\n",
       "      <td>HOBBIES_1_001</td>\n",
       "      <td>11325</td>\n",
       "      <td>9.58</td>\n",
       "    </tr>\n",
       "    <tr>\n",
       "      <th>1</th>\n",
       "      <td>CA_1</td>\n",
       "      <td>HOBBIES_1_001</td>\n",
       "      <td>11326</td>\n",
       "      <td>9.58</td>\n",
       "    </tr>\n",
       "    <tr>\n",
       "      <th>2</th>\n",
       "      <td>CA_1</td>\n",
       "      <td>HOBBIES_1_001</td>\n",
       "      <td>11327</td>\n",
       "      <td>8.26</td>\n",
       "    </tr>\n",
       "    <tr>\n",
       "      <th>3</th>\n",
       "      <td>CA_1</td>\n",
       "      <td>HOBBIES_1_001</td>\n",
       "      <td>11328</td>\n",
       "      <td>8.26</td>\n",
       "    </tr>\n",
       "    <tr>\n",
       "      <th>4</th>\n",
       "      <td>CA_1</td>\n",
       "      <td>HOBBIES_1_001</td>\n",
       "      <td>11329</td>\n",
       "      <td>8.26</td>\n",
       "    </tr>\n",
       "  </tbody>\n",
       "</table>\n",
       "</div>"
      ],
      "text/plain": [
       "  store_id        item_id  wm_yr_wk  sell_price\n",
       "0     CA_1  HOBBIES_1_001     11325        9.58\n",
       "1     CA_1  HOBBIES_1_001     11326        9.58\n",
       "2     CA_1  HOBBIES_1_001     11327        8.26\n",
       "3     CA_1  HOBBIES_1_001     11328        8.26\n",
       "4     CA_1  HOBBIES_1_001     11329        8.26"
      ]
     },
     "execution_count": 5,
     "metadata": {},
     "output_type": "execute_result"
    }
   ],
   "source": [
    "sell_prices_df = pd.read_csv('sell_prices.csv')\n",
    "sell_prices_df.head()"
   ]
  },
  {
   "cell_type": "code",
   "execution_count": 101,
   "metadata": {},
   "outputs": [],
   "source": [
    "import seaborn as sns\n",
    "import matplotlib.pyplot as plt\n",
    "\n",
    "from keras import models, layers, callbacks, Input\n",
    "\n",
    "from sklearn.preprocessing import MinMaxScaler"
   ]
  },
  {
   "cell_type": "code",
   "execution_count": 110,
   "metadata": {},
   "outputs": [],
   "source": [
    "# function for verifying results\n",
    "def show_results(model, history):\n",
    "    #let's get the training and validation histories for plotting\n",
    "    acc = history.history['mse']\n",
    "    loss = history.history['loss']\n",
    "    mse = history.history['mse']\n",
    "    mae = history.history['mae']\n",
    "    mape = history.history['mape']\n",
    "\n",
    "    print(model.summary())\n",
    "    # let's plot the performance curve\n",
    "    \n",
    "    plt.figure();\n",
    "    fig, axes = plt.subplots(nrows=1, ncols=3, figsize=(12, 7))\n",
    "    axes[0].plot(mse, label = 'Train mse')\n",
    "    axes[1].plot(mae, label='mae')\n",
    "    axes[2].plot(mape, label='mape')\n",
    "    axes[0].legend()\n",
    "    axes[1].legend()\n",
    "    axes[2].legend()\n",
    "\n",
    "    plt.show()"
   ]
  },
  {
   "cell_type": "code",
   "execution_count": 151,
   "metadata": {},
   "outputs": [],
   "source": [
    "def chunk_data (df, scaler = None, is_test = True, **kwargs):\n",
    "    \n",
    "    from types import SimpleNamespace    \n",
    "\n",
    "    # reassign the dictionary variables to variables in namespace for easy access\n",
    "    n = SimpleNamespace(**kwargs)\n",
    "    np_arr_list, y_arr_list = [], []\n",
    "    \n",
    "#     if scaler != None:    \n",
    "#         if is_test == False:\n",
    "#             print(\"shape of df is {}\".format(df.shape))\n",
    "#             df_scaled = scaler.fit_transform(df)\n",
    "#         else:\n",
    "#             df_scaled = scaler.transform(df)\n",
    "#     else:\n",
    "#         df_scaled = df\n",
    "            \n",
    "    # loop through each step and create a new np array to add to list\n",
    "    for chunk_start in range(n.start, (n.end - n.sample_size + 1), n.step):\n",
    "        \n",
    "        # get a chunk of x values and store to array\n",
    "        print(\"From {} to {}\".format(chunk_start, chunk_start + n.sample_size))\n",
    "        np_chunk = np.array(df.iloc[:,(chunk_start):(chunk_start + n.sample_size)])\n",
    "        # add stored array to list\n",
    "        np_arr_list.append(np_chunk)\n",
    "        \n",
    "        print(\"Y samples from {} to {}\".format((chunk_start + n.sample_size), (chunk_start + n.sample_size + n.y_size)))\n",
    "        y_df_chunk = df.iloc[:,(chunk_start + n.sample_size):(chunk_start + n.sample_size + n.y_size)]\n",
    "        y_np_chunk = np.array(y_df_chunk)\n",
    "        y_arr_list.append(y_np_chunk)\n",
    "        \n",
    "    # stack all the x samples together\n",
    "    np_stacked_chunks = np.stack(np_arr_list)\n",
    "    x_reshaped = np.transpose(np_stacked_chunks, (0,2,1))\n",
    "    \n",
    "    # stack all the y samples together\n",
    "    y_np_stacked_chunks = np.stack(y_arr_list)\n",
    "    y_reshaped = y_np_stacked_chunks\n",
    "    \n",
    "    return x_reshaped, y_reshaped\n",
    "\n",
    "def shape_ts_data(df, sample_size, y_size, y_split = None, step = 10, scaler = None):\n",
    "    \n",
    "    x_start = 0\n",
    "    if y_split is None:\n",
    "        x_end = df.shape[1] - y_size  \n",
    "    elif y_split < 1:\n",
    "        train_test_split = floor(df.shape[1] * y_split)\n",
    "        print(\"Split at {}\".format(train_test_split))\n",
    "        x_end = train_test_split - y_size\n",
    "        print(\"x_end: {}\".format(x_end))\n",
    "        # create test variables\n",
    "        x_test_start = train_test_split\n",
    "        x_test_end = df.shape[1] - y_size\n",
    "\n",
    "    # run the process on the training data\n",
    "    x_reshaped, y_reshaped = chunk_data(df, is_test = False, scaler = scaler, start = x_start, end = x_end, step = step, sample_size = sample_size, y_size = y_size)\n",
    "        \n",
    "    # if data is to be split, then run same process on test data sets\n",
    "    if y_split is not None:\n",
    "        print(\"split here for test range {} to {}\".format(x_test_start, x_test_end))\n",
    "        x_reshaped_test, y_reshaped_test = chunk_data(df, is_test = True, scaler = scaler, start = x_test_start, end = x_test_end, step = step, sample_size = sample_size, y_size = y_size)\n",
    "    \n",
    "    return x_reshaped, y_reshaped, x_reshaped_test, y_reshaped_test"
   ]
  },
  {
   "cell_type": "code",
   "execution_count": 111,
   "metadata": {},
   "outputs": [
    {
     "data": {
      "text/plain": [
       "1530"
      ]
     },
     "execution_count": 111,
     "metadata": {},
     "output_type": "execute_result"
    }
   ],
   "source": [
    "\n",
    "floor(sales_df.iloc[[3,7,15,22],6:].shape[1] * 0.8)\n",
    "# 1530 for x\n",
    "# 383 for y"
   ]
  },
  {
   "cell_type": "code",
   "execution_count": 112,
   "metadata": {},
   "outputs": [
    {
     "data": {
      "text/plain": [
       "1000"
      ]
     },
     "execution_count": 112,
     "metadata": {},
     "output_type": "execute_result"
    }
   ],
   "source": [
    "# set features for testing\n",
    "# features = [3,7,15,22]\n",
    "import random\n",
    "features = []\n",
    "random.seed(100)\n",
    "for x in range(1000):\n",
    "  features.append(random.randint(1,sales_df.shape[0]))\n",
    "# features = [i for i in range(10000)]\n",
    "n_features = len(features)\n",
    "\n",
    "# set features for full run\n",
    "# n_features = sales_df.shape[0]\n",
    "n_features"
   ]
  },
  {
   "cell_type": "code",
   "execution_count": 152,
   "metadata": {},
   "outputs": [
    {
     "name": "stdout",
     "output_type": "stream",
     "text": [
      "Split at 352\n",
      "x_end: 324\n",
      "From 0 to 100\n",
      "Y samples from 100 to 128\n",
      "From 10 to 110\n",
      "Y samples from 110 to 138\n",
      "From 20 to 120\n",
      "Y samples from 120 to 148\n",
      "From 30 to 130\n",
      "Y samples from 130 to 158\n",
      "From 40 to 140\n",
      "Y samples from 140 to 168\n",
      "From 50 to 150\n",
      "Y samples from 150 to 178\n",
      "From 60 to 160\n",
      "Y samples from 160 to 188\n",
      "From 70 to 170\n",
      "Y samples from 170 to 198\n",
      "From 80 to 180\n",
      "Y samples from 180 to 208\n",
      "From 90 to 190\n",
      "Y samples from 190 to 218\n",
      "From 100 to 200\n",
      "Y samples from 200 to 228\n",
      "From 110 to 210\n",
      "Y samples from 210 to 238\n",
      "From 120 to 220\n",
      "Y samples from 220 to 248\n",
      "From 130 to 230\n",
      "Y samples from 230 to 258\n",
      "From 140 to 240\n",
      "Y samples from 240 to 268\n",
      "From 150 to 250\n",
      "Y samples from 250 to 278\n",
      "From 160 to 260\n",
      "Y samples from 260 to 288\n",
      "From 170 to 270\n",
      "Y samples from 270 to 298\n",
      "From 180 to 280\n",
      "Y samples from 280 to 308\n",
      "From 190 to 290\n",
      "Y samples from 290 to 318\n",
      "From 200 to 300\n",
      "Y samples from 300 to 328\n",
      "From 210 to 310\n",
      "Y samples from 310 to 338\n",
      "From 220 to 320\n",
      "Y samples from 320 to 348\n",
      "split here for test range 352 to 476\n",
      "From 352 to 452\n",
      "Y samples from 452 to 480\n",
      "From 362 to 462\n",
      "Y samples from 462 to 490\n",
      "From 372 to 472\n",
      "Y samples from 472 to 500\n",
      "x_train shape: (23, 100, 1000)\n",
      "y_train shape: (23, 1000, 28)\n",
      "x_test shape: (3, 100, 1000)\n",
      "y_test shape: (3, 1000, 28)\n"
     ]
    },
    {
     "data": {
      "text/plain": [
       "array([[2, 0, 0, ..., 0, 0, 0],\n",
       "       [3, 0, 0, ..., 0, 0, 0],\n",
       "       [0, 0, 0, ..., 0, 0, 0],\n",
       "       ...,\n",
       "       [0, 0, 0, ..., 0, 0, 0],\n",
       "       [0, 0, 0, ..., 0, 0, 0],\n",
       "       [0, 0, 0, ..., 0, 0, 0]], dtype=int64)"
      ]
     },
     "execution_count": 152,
     "metadata": {},
     "output_type": "execute_result"
    }
   ],
   "source": [
    "scaler = MinMaxScaler()\n",
    "\n",
    "x_train, y_train, x_test, y_test = shape_ts_data(sales_df.iloc[features,6:510], sample_size=100, step=10, y_size=28, y_split = 0.7, scaler = scaler)\n",
    "print('x_train shape: {}'.format(x_train.shape))\n",
    "print('y_train shape: {}'.format(y_train.shape))\n",
    "print('x_test shape: {}'.format(x_test.shape))\n",
    "print('y_test shape: {}'.format(y_test.shape))\n",
    "x_train[0]"
   ]
  },
  {
   "cell_type": "code",
   "execution_count": 11,
   "metadata": {},
   "outputs": [
    {
     "data": {
      "text/plain": [
       "(23, 30490, 28)"
      ]
     },
     "execution_count": 11,
     "metadata": {},
     "output_type": "execute_result"
    }
   ],
   "source": [
    "y_train.shape"
   ]
  },
  {
   "cell_type": "code",
   "execution_count": 114,
   "metadata": {},
   "outputs": [
    {
     "data": {
      "text/plain": [
       "array([[0.11764706, 0.        , 0.        , ..., 0.        , 0.        ,\n",
       "        0.        ],\n",
       "       [0.        , 0.        , 0.        , ..., 0.        , 0.        ,\n",
       "        0.        ],\n",
       "       [0.        , 0.        , 0.        , ..., 0.        , 0.        ,\n",
       "        0.        ],\n",
       "       ...,\n",
       "       [0.        , 0.        , 0.01818182, ..., 0.        , 0.        ,\n",
       "        0.        ],\n",
       "       [0.        , 0.        , 0.01492537, ..., 0.        , 0.        ,\n",
       "        0.        ],\n",
       "       [0.        , 0.        , 0.02564103, ..., 0.        , 0.        ,\n",
       "        0.        ]])"
      ]
     },
     "execution_count": 114,
     "metadata": {},
     "output_type": "execute_result"
    }
   ],
   "source": [
    "# the first time period y values\n",
    "y_train[:,:,0]"
   ]
  },
  {
   "cell_type": "code",
   "execution_count": 38,
   "metadata": {},
   "outputs": [
    {
     "data": {
      "text/plain": [
       "array([[[ 1,  0],\n",
       "        [ 0, 27],\n",
       "        [ 4, 13],\n",
       "        [ 3,  4]],\n",
       "\n",
       "       [[ 1,  1],\n",
       "        [ 0,  0],\n",
       "        [ 8,  3],\n",
       "        [ 0,  0]],\n",
       "\n",
       "       [[ 1,  2],\n",
       "        [ 6,  4],\n",
       "        [ 1,  5],\n",
       "        [ 1,  1]],\n",
       "\n",
       "       [[ 0,  0],\n",
       "        [24,  0],\n",
       "        [ 0,  0],\n",
       "        [ 0,  0]],\n",
       "\n",
       "       [[ 1,  2],\n",
       "        [23,  0],\n",
       "        [ 8,  0],\n",
       "        [ 2,  0]],\n",
       "\n",
       "       [[ 0,  0],\n",
       "        [ 0,  0],\n",
       "        [ 4,  2],\n",
       "        [ 1,  3]],\n",
       "\n",
       "       [[ 3,  4],\n",
       "        [ 5, 14],\n",
       "        [ 0,  5],\n",
       "        [ 1,  6]],\n",
       "\n",
       "       [[ 0,  2],\n",
       "        [11, 16],\n",
       "        [12,  4],\n",
       "        [ 1,  4]],\n",
       "\n",
       "       [[ 2,  1],\n",
       "        [18,  0],\n",
       "        [13, 10],\n",
       "        [ 2,  3]],\n",
       "\n",
       "       [[ 1,  2],\n",
       "        [19,  3],\n",
       "        [ 2,  2],\n",
       "        [ 3,  4]],\n",
       "\n",
       "       [[ 0,  1],\n",
       "        [ 5,  9],\n",
       "        [ 1,  0],\n",
       "        [ 2,  3]]], dtype=int64)"
      ]
     },
     "execution_count": 38,
     "metadata": {},
     "output_type": "execute_result"
    }
   ],
   "source": [
    "y_train[:,:,0]\n",
    "\n",
    "# how to stack along feature dimension (which contains the different time steps)\n",
    "np.stack([y_train[:,:,0],y_train[:,:,1]], axis = 2)"
   ]
  },
  {
   "cell_type": "code",
   "execution_count": 57,
   "metadata": {},
   "outputs": [],
   "source": [
    "# sales_df_train = sales_df_limited.reshape(1, sales_df_limited.shape[1], sales_df_limited.shape[0])\n",
    "# sales_df_train"
   ]
  },
  {
   "cell_type": "code",
   "execution_count": 58,
   "metadata": {},
   "outputs": [],
   "source": [
    "# sales_df_train.shape"
   ]
  },
  {
   "cell_type": "code",
   "execution_count": 59,
   "metadata": {},
   "outputs": [],
   "source": [
    "# y_train = np.array(sales_df.iloc[[3,7,15,22],106:108])\n",
    "# print(y_train)\n",
    "# y_train = y_train.reshape(1 , y_train.shape[0]* y_train.shape[1])\n",
    "# y_train"
   ]
  },
  {
   "cell_type": "code",
   "execution_count": 60,
   "metadata": {},
   "outputs": [],
   "source": [
    "# y_temp.shape"
   ]
  },
  {
   "cell_type": "code",
   "execution_count": 61,
   "metadata": {},
   "outputs": [],
   "source": [
    "# y_temp"
   ]
  },
  {
   "cell_type": "code",
   "execution_count": 62,
   "metadata": {},
   "outputs": [],
   "source": [
    "# y_train[:,:,0]"
   ]
  },
  {
   "cell_type": "code",
   "execution_count": 63,
   "metadata": {},
   "outputs": [],
   "source": [
    "# # example of how to reshape it back\n",
    "# y_train.reshape(1 , 4, 2)"
   ]
  },
  {
   "cell_type": "code",
   "execution_count": 7,
   "metadata": {},
   "outputs": [],
   "source": [
    "# sales_df_train = np.array(sales_df.iloc[:,6:1700])\n",
    "# y_train = np.array(sales_df.iloc[:,1700:1728])"
   ]
  },
  {
   "cell_type": "code",
   "execution_count": 8,
   "metadata": {},
   "outputs": [],
   "source": [
    "# sales_df_train = sales_df_train.reshape(sales_df_train.shape[0], 1, sales_df_train.shape[1])"
   ]
  },
  {
   "cell_type": "code",
   "execution_count": 103,
   "metadata": {},
   "outputs": [],
   "source": [
    "# y_train = y_train.reshape(y_train.shape[0], y_train.shape[1], 1)\n"
   ]
  },
  {
   "cell_type": "code",
   "execution_count": 64,
   "metadata": {},
   "outputs": [],
   "source": [
    "# y_temp"
   ]
  },
  {
   "cell_type": "code",
   "execution_count": 65,
   "metadata": {},
   "outputs": [],
   "source": [
    "# # y_temp2 = y_temp.reshape(10,8)\n",
    "# y_temp2"
   ]
  },
  {
   "cell_type": "code",
   "execution_count": 66,
   "metadata": {},
   "outputs": [
    {
     "data": {
      "text/plain": [
       "(18, 4, 6)"
      ]
     },
     "execution_count": 66,
     "metadata": {},
     "output_type": "execute_result"
    }
   ],
   "source": [
    "y_train.shape"
   ]
  },
  {
   "cell_type": "markdown",
   "metadata": {},
   "source": [
    "## Build the model"
   ]
  },
  {
   "cell_type": "code",
   "execution_count": 153,
   "metadata": {},
   "outputs": [
    {
     "data": {
      "text/plain": [
       "(100, 1000)"
      ]
     },
     "execution_count": 153,
     "metadata": {},
     "output_type": "execute_result"
    }
   ],
   "source": [
    "# set input shape to be used in model build\n",
    "input_shape = x_train.shape[1:3]\n",
    "input_shape"
   ]
  },
  {
   "cell_type": "code",
   "execution_count": 154,
   "metadata": {},
   "outputs": [],
   "source": [
    "timeseries_input = Input(shape=input_shape, dtype='float32', name='timeseries')"
   ]
  },
  {
   "cell_type": "code",
   "execution_count": 155,
   "metadata": {},
   "outputs": [],
   "source": [
    "# try LSTM layers\n",
    "ts_layer = layers.Conv1D(filters=64, \n",
    "                         kernel_size=3,\n",
    "                         padding='same',\n",
    "                         activation='relu')(timeseries_input)\n",
    "ts_layer = layers.MaxPooling1D(pool_size=2)(ts_layer)\n",
    "ts_layer = layers.Flatten()(ts_layer)"
   ]
  },
  {
   "cell_type": "code",
   "execution_count": 156,
   "metadata": {},
   "outputs": [],
   "source": [
    "output = layers.Dense(n_features, activation=None)(ts_layer)"
   ]
  },
  {
   "cell_type": "code",
   "execution_count": 157,
   "metadata": {},
   "outputs": [],
   "source": [
    "model = models.Model(timeseries_input, output)"
   ]
  },
  {
   "cell_type": "code",
   "execution_count": 158,
   "metadata": {},
   "outputs": [],
   "source": [
    "model.compile(optimizer='adam',\n",
    "             loss='mse',\n",
    "             metrics=['mse', 'mae', 'mape'])"
   ]
  },
  {
   "cell_type": "code",
   "execution_count": 159,
   "metadata": {},
   "outputs": [
    {
     "name": "stdout",
     "output_type": "stream",
     "text": [
      "Epoch 1/100\n",
      "10/10 [==============================] - 8s 836ms/step - loss: 10.9008 - mse: 10.9008 - mae: 1.6213 - mape: 905702208.0000\n",
      "Epoch 2/100\n",
      "10/10 [==============================] - 0s 17ms/step - loss: 5.2709 - mse: 5.2709 - mae: 1.0500 - mape: 601113728.0000\n",
      "Epoch 3/100\n",
      "10/10 [==============================] - 0s 16ms/step - loss: 3.2577 - mse: 3.2577 - mae: 0.7560 - mape: 418128832.0000\n",
      "Epoch 4/100\n",
      "10/10 [==============================] - 0s 16ms/step - loss: 2.0320 - mse: 2.0320 - mae: 0.5200 - mape: 287478848.0000\n",
      "Epoch 5/100\n",
      "10/10 [==============================] - 0s 16ms/step - loss: 1.1868 - mse: 1.1868 - mae: 0.3600 - mape: 198055056.0000\n",
      "Epoch 6/100\n",
      "10/10 [==============================] - 0s 16ms/step - loss: 0.6415 - mse: 0.6415 - mae: 0.2449 - mape: 134705472.0000\n",
      "Epoch 7/100\n",
      "10/10 [==============================] - 0s 16ms/step - loss: 0.3218 - mse: 0.3218 - mae: 0.1812 - mape: 103973752.0000\n",
      "Epoch 8/100\n",
      "10/10 [==============================] - 0s 15ms/step - loss: 0.1370 - mse: 0.1370 - mae: 0.1274 - mape: 76316728.0000\n",
      "Epoch 9/100\n",
      "10/10 [==============================] - 0s 15ms/step - loss: 0.0513 - mse: 0.0513 - mae: 0.0879 - mape: 55015244.0000\n",
      "Epoch 10/100\n",
      "10/10 [==============================] - 0s 19ms/step - loss: 0.0200 - mse: 0.0200 - mae: 0.0669 - mape: 44932644.0000\n",
      "Epoch 11/100\n",
      "10/10 [==============================] - 0s 16ms/step - loss: 0.0073 - mse: 0.0073 - mae: 0.0447 - mape: 30945482.0000\n",
      "Epoch 12/100\n",
      "10/10 [==============================] - 0s 17ms/step - loss: 0.0030 - mse: 0.0030 - mae: 0.0342 - mape: 24705046.0000\n",
      "Epoch 13/100\n",
      "10/10 [==============================] - 0s 16ms/step - loss: 0.0024 - mse: 0.0024 - mae: 0.0387 - mape: 29708038.0000\n",
      "Epoch 14/100\n",
      "10/10 [==============================] - 0s 16ms/step - loss: 0.0039 - mse: 0.0039 - mae: 0.0507 - mape: 39912264.0000\n",
      "Epoch 15/100\n",
      "10/10 [==============================] - 0s 16ms/step - loss: 0.0070 - mse: 0.0070 - mae: 0.0667 - mape: 52703208.0000\n",
      "Epoch 16/100\n",
      "10/10 [==============================] - 0s 16ms/step - loss: 0.0016 - mse: 0.0016 - mae: 0.0308 - mape: 24155396.0000\n",
      "Restoring model weights from the end of the best epoch\n",
      "Epoch 00016: early stopping\n"
     ]
    }
   ],
   "source": [
    "history = model.fit(x_train, \n",
    "                        y_train[:,:,0],\n",
    "                        steps_per_epoch=10,\n",
    "                        epochs=100,\n",
    "                        callbacks=[\n",
    "                            callbacks.EarlyStopping(monitor='loss', min_delta=0.01, patience=5, verbose=1, mode='auto', restore_best_weights=True),\n",
    "                            callbacks.ModelCheckpoint(filepath='training_weights.h5', monitor='loss',save_best_only=True)\n",
    "                        ],\n",
    "                        verbose=1)"
   ]
  },
  {
   "cell_type": "code",
   "execution_count": 88,
   "metadata": {},
   "outputs": [],
   "source": [
    "# for predictions loop through each prediction and use the previous prediction to feed into the next\n",
    "#y_temp[:,:,0]\n",
    "# history.history"
   ]
  },
  {
   "cell_type": "markdown",
   "metadata": {},
   "source": [
    "## Evaluate Results"
   ]
  },
  {
   "cell_type": "code",
   "execution_count": 160,
   "metadata": {},
   "outputs": [
    {
     "name": "stdout",
     "output_type": "stream",
     "text": [
      "Model: \"model_10\"\n",
      "_________________________________________________________________\n",
      "Layer (type)                 Output Shape              Param #   \n",
      "=================================================================\n",
      "timeseries (InputLayer)      (None, 100, 1000)         0         \n",
      "_________________________________________________________________\n",
      "conv1d_10 (Conv1D)           (None, 100, 64)           192064    \n",
      "_________________________________________________________________\n",
      "max_pooling1d_10 (MaxPooling (None, 50, 64)            0         \n",
      "_________________________________________________________________\n",
      "flatten_10 (Flatten)         (None, 3200)              0         \n",
      "_________________________________________________________________\n",
      "dense_10 (Dense)             (None, 1000)              3201000   \n",
      "=================================================================\n",
      "Total params: 3,393,064\n",
      "Trainable params: 3,393,064\n",
      "Non-trainable params: 0\n",
      "_________________________________________________________________\n",
      "None\n"
     ]
    },
    {
     "data": {
      "text/plain": [
       "<Figure size 432x288 with 0 Axes>"
      ]
     },
     "metadata": {},
     "output_type": "display_data"
    },
    {
     "data": {
      "image/png": "[encoded data removed]",
      "text/plain": [
       "<Figure size 864x504 with 3 Axes>"
      ]
     },
     "metadata": {
      "needs_background": "light"
     },
     "output_type": "display_data"
    }
   ],
   "source": [
    "show_results(model, history);"
   ]
  },
  {
   "cell_type": "code",
   "execution_count": 87,
   "metadata": {},
   "outputs": [],
   "source": [
    "# x_test = sales_df.iloc[[3,7,15,22],206:306]\n",
    "# x_test = np.array(x_test)\n",
    "# x_test = x_test.reshape(1, x_test.shape[1], x_test.shape[0])\n",
    "# x_test\n",
    "\n",
    "# y_test = np.array(sales_df.iloc[[3,7,15,22],306:308])\n",
    "# y_test = y_test.reshape(1, y_test.shape[0] * y_test.shape[1])\n",
    "# y_test"
   ]
  },
  {
   "cell_type": "code",
   "execution_count": 123,
   "metadata": {},
   "outputs": [
    {
     "name": "stdout",
     "output_type": "stream",
     "text": [
      "3/3 [==============================] - 0s 14ms/step\n",
      "Test score: 0.0061720008961856365\n",
      "Test accuracy: 0.0061720008961856365\n",
      "[0.0061720008961856365, 0.0061720008961856365, 0.04300376772880554, 22175574.0]\n"
     ]
    }
   ],
   "source": [
    "score = model.evaluate(x_test,\n",
    "                       y_test[:,:,0],\n",
    "                       verbose=1)\n",
    "print('Test score:', score[0])\n",
    "print('Test accuracy:', score[1])\n",
    "print(score)"
   ]
  },
  {
   "cell_type": "code",
   "execution_count": 124,
   "metadata": {},
   "outputs": [
    {
     "data": {
      "text/plain": [
       "array([[ 0.06299265, -0.0007686 ,  0.05053152, ..., -0.0212761 ,\n",
       "        -0.0257461 , -0.02865182],\n",
       "       [ 0.03045742,  0.0289046 ,  0.03326583, ..., -0.01224186,\n",
       "        -0.02119138, -0.04227221],\n",
       "       [ 0.04924223,  0.02217067,  0.05682202, ..., -0.03752363,\n",
       "        -0.02548404, -0.0028564 ]], dtype=float32)"
      ]
     },
     "execution_count": 124,
     "metadata": {},
     "output_type": "execute_result"
    }
   ],
   "source": [
    "model.predict(x_test)"
   ]
  },
  {
   "cell_type": "code",
   "execution_count": 149,
   "metadata": {},
   "outputs": [
    {
     "data": {
      "text/plain": [
       "(3, 1000, 28)"
      ]
     },
     "execution_count": 149,
     "metadata": {},
     "output_type": "execute_result"
    }
   ],
   "source": [
    "# scaler.inverse_transform(y_test[:,:,-1])\n",
    "y_test[:,:,-1].shape\n",
    "# scaler.get_params"
   ]
  },
  {
   "cell_type": "code",
   "execution_count": 67,
   "metadata": {},
   "outputs": [
    {
     "name": "stdout",
     "output_type": "stream",
     "text": [
      "last prediction 100 for 0 run\n",
      "last prediction 100 for 1 run\n",
      "last prediction 100 for 2 run\n",
      "last prediction 100 for 3 run\n",
      "last prediction 100 for 4 run\n",
      "last prediction 100 for 5 run\n",
      "last prediction 100 for 6 run\n",
      "last prediction 100 for 7 run\n",
      "last prediction 100 for 8 run\n",
      "last prediction 100 for 9 run\n",
      "last prediction 100 for 10 run\n",
      "last prediction 100 for 11 run\n",
      "last prediction 100 for 12 run\n",
      "last prediction 100 for 13 run\n",
      "last prediction 100 for 14 run\n",
      "last prediction 100 for 15 run\n",
      "last prediction 100 for 16 run\n",
      "last prediction 100 for 17 run\n",
      "last prediction 100 for 18 run\n",
      "last prediction 100 for 19 run\n",
      "last prediction 100 for 20 run\n",
      "last prediction 100 for 21 run\n",
      "last prediction 100 for 22 run\n",
      "last prediction 100 for 23 run\n",
      "last prediction 100 for 24 run\n",
      "last prediction 100 for 25 run\n",
      "last prediction 100 for 26 run\n",
      "last prediction 100 for 27 run\n",
      "last prediction 100 for 28 run\n"
     ]
    }
   ],
   "source": [
    "# prediction engine for future\n",
    "# copy the x_test array to be used for future looking predictions\n",
    "x_test_latest = np.array(x_test, copy = True) \n",
    "\n",
    "# capture the shape of the x_test array to be used in loops\n",
    "num_y_vals = x_test.shape[1]\n",
    "\n",
    "# loop through 28 days of predictions and split into individual days to make restacking easier\n",
    "for j in range(0, 29):\n",
    "    x_test_array_split = []\n",
    "    for i in range(1, num_y_vals + 1):\n",
    "        if i >= num_y_vals:\n",
    "            print(\"last prediction {} for {} run\".format(i,j))\n",
    "            x_test_array_split.append(model.predict(x_test_latest))\n",
    "        else:\n",
    "            x_test_array_split.append(x_test_latest[:,i,:])\n",
    "    x_test_latest = np.stack(x_test_array_split, axis = 1)"
   ]
  },
  {
   "cell_type": "code",
   "execution_count": 135,
   "metadata": {},
   "outputs": [
    {
     "data": {
      "text/plain": [
       "(3, 100, 1000)"
      ]
     },
     "execution_count": 135,
     "metadata": {},
     "output_type": "execute_result"
    }
   ],
   "source": [
    "x_test_latest.shape"
   ]
  },
  {
   "cell_type": "code",
   "execution_count": 133,
   "metadata": {},
   "outputs": [],
   "source": [
    "y_test_predictions = np.transpose(x_test_latest[:,-29:-1,:], (0,2,1))"
   ]
  },
  {
   "cell_type": "code",
   "execution_count": 134,
   "metadata": {},
   "outputs": [
    {
     "data": {
      "text/plain": [
       "(3, 1000, 28)"
      ]
     },
     "execution_count": 134,
     "metadata": {},
     "output_type": "execute_result"
    }
   ],
   "source": [
    "y_test_predictions.shape"
   ]
  },
  {
   "cell_type": "code",
   "execution_count": 161,
   "metadata": {},
   "outputs": [
    {
     "data": {
      "text/plain": [
       "array([[ 0,  0,  0, ...,  2,  9,  8],\n",
       "       [ 0,  0,  0, ...,  0,  0,  0],\n",
       "       [ 1,  0,  2, ...,  1,  1,  0],\n",
       "       ...,\n",
       "       [ 0,  0,  0, ...,  0,  0,  0],\n",
       "       [ 7, 10,  9, ...,  0, 33, 32],\n",
       "       [ 0,  0,  0, ...,  0,  0,  0]], dtype=int64)"
      ]
     },
     "execution_count": 161,
     "metadata": {},
     "output_type": "execute_result"
    }
   ],
   "source": [
    "# get only last sample for the latest predictions\n",
    "y_test[-1,:,:]"
   ]
  },
  {
   "cell_type": "code",
   "execution_count": 70,
   "metadata": {},
   "outputs": [
    {
     "data": {
      "text/plain": [
       "(3, 1000, 28)"
      ]
     },
     "execution_count": 70,
     "metadata": {},
     "output_type": "execute_result"
    }
   ],
   "source": [
    "y_test.shape"
   ]
  },
  {
   "cell_type": "code",
   "execution_count": 71,
   "metadata": {},
   "outputs": [
    {
     "data": {
      "text/plain": [
       "15.800670769198565"
      ]
     },
     "execution_count": 71,
     "metadata": {},
     "output_type": "execute_result"
    }
   ],
   "source": [
    "(np.square(y_test_predictions - y_test)).mean(axis=None)"
   ]
  },
  {
   "cell_type": "code",
   "execution_count": 136,
   "metadata": {},
   "outputs": [
    {
     "data": {
      "text/plain": [
       "array([[ 2.80064821,  1.54865956,  3.31406593,  2.25108767],\n",
       "       [ 2.06400418, -0.61296386,  4.54324722,  4.46978474]])"
      ]
     },
     "execution_count": 136,
     "metadata": {},
     "output_type": "execute_result"
    }
   ],
   "source": [
    "x_test_latest[:,-1,:]"
   ]
  },
  {
   "cell_type": "code",
   "execution_count": null,
   "metadata": {},
   "outputs": [],
   "source": []
  }
 ],
 "metadata": {
  "kernelspec": {
   "display_name": "Python (tf-gpu)",
   "language": "python",
   "name": "tf-gpu"
  },
  "language_info": {
   "codemirror_mode": {
    "name": "ipython",
    "version": 3
   },
   "file_extension": ".py",
   "mimetype": "text/x-python",
   "name": "python",
   "nbconvert_exporter": "python",
   "pygments_lexer": "ipython3",
   "version": "3.7.5"
  }
 },
 "nbformat": 4,
 "nbformat_minor": 4
}
